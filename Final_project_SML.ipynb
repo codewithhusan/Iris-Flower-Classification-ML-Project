{
 "cells": [
  {
   "cell_type": "code",
   "execution_count": 163,
   "id": "599dfb4f-8b81-40ee-9880-54d31b6beff3",
   "metadata": {},
   "outputs": [],
   "source": [
    "import pandas as pd\n",
    "import matplotlib.pyplot as plt\n",
    "from sklearn.model_selection import train_test_split \n",
    "from sklearn.model_selection import GridSearchCV\n",
    "from sklearn.svm import SVC\n",
    "from sklearn.tree import DecisionTreeClassifier\n",
    "from sklearn.metrics import classification_report, confusion_matrix\n",
    "from utils9 import display_tree"
   ]
  },
  {
   "cell_type": "markdown",
   "id": "d46bda81-99e7-4180-bbe1-8b15dccf115f",
   "metadata": {},
   "source": [
    "## Question 1"
   ]
  },
  {
   "cell_type": "markdown",
   "id": "e0baae29-f4e2-4850-b160-3968251f2928",
   "metadata": {},
   "source": [
    "### Realistic use case for data with at least three classes"
   ]
  },
  {
   "cell_type": "markdown",
   "id": "923282e4-6885-49c0-889a-ebfb32d431c6",
   "metadata": {},
   "source": [
    "#### _Answer: Botanical research: The dataset can be used in botanical research to exlpore patterns and relationships between different species of iris flowers. Researchers can analyze the characteristics of each species, study their distributions in different habitats and investigate factors influencing their growth and reproduction._"
   ]
  },
  {
   "cell_type": "markdown",
   "id": "c5a94469-15e2-4393-890e-d6308f5309bd",
   "metadata": {},
   "source": [
    "### Provide a description of each feature in the data set"
   ]
  },
  {
   "cell_type": "markdown",
   "id": "b74f4bd9-3705-4344-9d68-d17d5ffc6a53",
   "metadata": {},
   "source": [
    "#### _Answer: a) Sepal length (cm): The length of the sepals, which are the outermost part of the flower that protect the inner reproductive organs.  \n",
    "#### b) Sepal Width (cm): The width of the sepals, measured perpendicular to the length. \n",
    "#### c) Petal Length (cm): The length of the petals, which are the colorful inner parts of the flower that attract pollinators.\n",
    "#### d) Petal width (cm): The width of the petals measured perpendicular to the length."
   ]
  },
  {
   "cell_type": "markdown",
   "id": "4e9f07fe-0833-410b-bf0a-17a02c1bba27",
   "metadata": {},
   "source": [
    "## Question 2"
   ]
  },
  {
   "cell_type": "markdown",
   "id": "d9385f3e-7c08-4f78-99a7-796efff20e8f",
   "metadata": {},
   "source": [
    "###  Discussion of prediction errors. Are false positives or negatives for one of the classes to be avoided? Or are all errors equally bad?"
   ]
  },
  {
   "cell_type": "markdown",
   "id": "6ae961cc-8fc6-4da7-9cfb-07e12442dadc",
   "metadata": {},
   "source": [
    "#### _Answer: In the context of iris classification dataset, the impact of prediction errors may depend on specific objectives and consequences of misclassification.\n",
    "#### a) False Positive:If the model incorrectly classilies a Versicolor iris flower as setosa. It may lead to misinterpretation of the characteristics of a particular species and incorrect conclusions drawn from the data.It could also result in certain management decisions, for example, certain conservation efforts or breeding programs are based on species identification.\n",
    "#### b) False negative: It can lead to underestimation of the abundance or distribution of a particular species which can have implications for ecological studies and conservation efforts. False negatives can result in missed opportunities of protection of rare and endangered species.\n",
    "#### c) Equally bad errors: If the goal is to achieve high overall accuracy, both false positives and false negatives lead to misclassification rates and reduce the overall performance of the model. In such cases, reducing both the errors is mandatory._"
   ]
  },
  {
   "cell_type": "markdown",
   "id": "6b43076e-b0c6-472a-8a63-e0113caed97f",
   "metadata": {},
   "source": [
    "## Question 3"
   ]
  },
  {
   "cell_type": "markdown",
   "id": "a673ab87-424a-4dfa-9bb3-6bf23e26d560",
   "metadata": {},
   "source": [
    "### Data cleaning, with check that it is clean using Pandas. Save the data as a CSV file for later use."
   ]
  },
  {
   "cell_type": "code",
   "execution_count": 164,
   "id": "32edb18c-0eef-4738-96a6-e60cc1fd6131",
   "metadata": {},
   "outputs": [
    {
     "data": {
      "text/html": [
       "<div>\n",
       "<style scoped>\n",
       "    .dataframe tbody tr th:only-of-type {\n",
       "        vertical-align: middle;\n",
       "    }\n",
       "\n",
       "    .dataframe tbody tr th {\n",
       "        vertical-align: top;\n",
       "    }\n",
       "\n",
       "    .dataframe thead th {\n",
       "        text-align: right;\n",
       "    }\n",
       "</style>\n",
       "<table border=\"1\" class=\"dataframe\">\n",
       "  <thead>\n",
       "    <tr style=\"text-align: right;\">\n",
       "      <th></th>\n",
       "      <th>Id</th>\n",
       "      <th>SepalLengthCm</th>\n",
       "      <th>SepalWidthCm</th>\n",
       "      <th>PetalLengthCm</th>\n",
       "      <th>PetalWidthCm</th>\n",
       "      <th>Species</th>\n",
       "    </tr>\n",
       "  </thead>\n",
       "  <tbody>\n",
       "    <tr>\n",
       "      <th>0</th>\n",
       "      <td>1</td>\n",
       "      <td>5.1</td>\n",
       "      <td>3.5</td>\n",
       "      <td>1.4</td>\n",
       "      <td>0.2</td>\n",
       "      <td>Iris-setosa</td>\n",
       "    </tr>\n",
       "    <tr>\n",
       "      <th>1</th>\n",
       "      <td>2</td>\n",
       "      <td>4.9</td>\n",
       "      <td>3.0</td>\n",
       "      <td>1.4</td>\n",
       "      <td>0.2</td>\n",
       "      <td>Iris-setosa</td>\n",
       "    </tr>\n",
       "    <tr>\n",
       "      <th>2</th>\n",
       "      <td>3</td>\n",
       "      <td>4.7</td>\n",
       "      <td>3.2</td>\n",
       "      <td>1.3</td>\n",
       "      <td>0.2</td>\n",
       "      <td>Iris-setosa</td>\n",
       "    </tr>\n",
       "    <tr>\n",
       "      <th>3</th>\n",
       "      <td>4</td>\n",
       "      <td>4.6</td>\n",
       "      <td>3.1</td>\n",
       "      <td>1.5</td>\n",
       "      <td>0.2</td>\n",
       "      <td>Iris-setosa</td>\n",
       "    </tr>\n",
       "    <tr>\n",
       "      <th>4</th>\n",
       "      <td>5</td>\n",
       "      <td>5.0</td>\n",
       "      <td>3.6</td>\n",
       "      <td>1.4</td>\n",
       "      <td>0.2</td>\n",
       "      <td>Iris-setosa</td>\n",
       "    </tr>\n",
       "    <tr>\n",
       "      <th>...</th>\n",
       "      <td>...</td>\n",
       "      <td>...</td>\n",
       "      <td>...</td>\n",
       "      <td>...</td>\n",
       "      <td>...</td>\n",
       "      <td>...</td>\n",
       "    </tr>\n",
       "    <tr>\n",
       "      <th>145</th>\n",
       "      <td>146</td>\n",
       "      <td>6.7</td>\n",
       "      <td>3.0</td>\n",
       "      <td>5.2</td>\n",
       "      <td>2.3</td>\n",
       "      <td>Iris-virginica</td>\n",
       "    </tr>\n",
       "    <tr>\n",
       "      <th>146</th>\n",
       "      <td>147</td>\n",
       "      <td>6.3</td>\n",
       "      <td>2.5</td>\n",
       "      <td>5.0</td>\n",
       "      <td>1.9</td>\n",
       "      <td>Iris-virginica</td>\n",
       "    </tr>\n",
       "    <tr>\n",
       "      <th>147</th>\n",
       "      <td>148</td>\n",
       "      <td>6.5</td>\n",
       "      <td>3.0</td>\n",
       "      <td>5.2</td>\n",
       "      <td>2.0</td>\n",
       "      <td>Iris-virginica</td>\n",
       "    </tr>\n",
       "    <tr>\n",
       "      <th>148</th>\n",
       "      <td>149</td>\n",
       "      <td>6.2</td>\n",
       "      <td>3.4</td>\n",
       "      <td>5.4</td>\n",
       "      <td>2.3</td>\n",
       "      <td>Iris-virginica</td>\n",
       "    </tr>\n",
       "    <tr>\n",
       "      <th>149</th>\n",
       "      <td>150</td>\n",
       "      <td>5.9</td>\n",
       "      <td>3.0</td>\n",
       "      <td>5.1</td>\n",
       "      <td>1.8</td>\n",
       "      <td>Iris-virginica</td>\n",
       "    </tr>\n",
       "  </tbody>\n",
       "</table>\n",
       "<p>150 rows × 6 columns</p>\n",
       "</div>"
      ],
      "text/plain": [
       "      Id  SepalLengthCm  SepalWidthCm  PetalLengthCm  PetalWidthCm  \\\n",
       "0      1            5.1           3.5            1.4           0.2   \n",
       "1      2            4.9           3.0            1.4           0.2   \n",
       "2      3            4.7           3.2            1.3           0.2   \n",
       "3      4            4.6           3.1            1.5           0.2   \n",
       "4      5            5.0           3.6            1.4           0.2   \n",
       "..   ...            ...           ...            ...           ...   \n",
       "145  146            6.7           3.0            5.2           2.3   \n",
       "146  147            6.3           2.5            5.0           1.9   \n",
       "147  148            6.5           3.0            5.2           2.0   \n",
       "148  149            6.2           3.4            5.4           2.3   \n",
       "149  150            5.9           3.0            5.1           1.8   \n",
       "\n",
       "            Species  \n",
       "0       Iris-setosa  \n",
       "1       Iris-setosa  \n",
       "2       Iris-setosa  \n",
       "3       Iris-setosa  \n",
       "4       Iris-setosa  \n",
       "..              ...  \n",
       "145  Iris-virginica  \n",
       "146  Iris-virginica  \n",
       "147  Iris-virginica  \n",
       "148  Iris-virginica  \n",
       "149  Iris-virginica  \n",
       "\n",
       "[150 rows x 6 columns]"
      ]
     },
     "execution_count": 164,
     "metadata": {},
     "output_type": "execute_result"
    }
   ],
   "source": [
    "df = pd.read_csv('Iris.csv')\n",
    "df"
   ]
  },
  {
   "cell_type": "code",
   "execution_count": 165,
   "id": "fbb7495b-0319-4ea3-8aa4-72940e331f4c",
   "metadata": {},
   "outputs": [
    {
     "data": {
      "text/html": [
       "<div>\n",
       "<style scoped>\n",
       "    .dataframe tbody tr th:only-of-type {\n",
       "        vertical-align: middle;\n",
       "    }\n",
       "\n",
       "    .dataframe tbody tr th {\n",
       "        vertical-align: top;\n",
       "    }\n",
       "\n",
       "    .dataframe thead th {\n",
       "        text-align: right;\n",
       "    }\n",
       "</style>\n",
       "<table border=\"1\" class=\"dataframe\">\n",
       "  <thead>\n",
       "    <tr style=\"text-align: right;\">\n",
       "      <th></th>\n",
       "      <th>Id</th>\n",
       "      <th>SepalLengthCm</th>\n",
       "      <th>SepalWidthCm</th>\n",
       "      <th>PetalLengthCm</th>\n",
       "      <th>PetalWidthCm</th>\n",
       "      <th>Species</th>\n",
       "    </tr>\n",
       "  </thead>\n",
       "  <tbody>\n",
       "    <tr>\n",
       "      <th>0</th>\n",
       "      <td>1</td>\n",
       "      <td>5.1</td>\n",
       "      <td>3.5</td>\n",
       "      <td>1.4</td>\n",
       "      <td>0.2</td>\n",
       "      <td>Iris-setosa</td>\n",
       "    </tr>\n",
       "    <tr>\n",
       "      <th>1</th>\n",
       "      <td>2</td>\n",
       "      <td>4.9</td>\n",
       "      <td>3.0</td>\n",
       "      <td>1.4</td>\n",
       "      <td>0.2</td>\n",
       "      <td>Iris-setosa</td>\n",
       "    </tr>\n",
       "    <tr>\n",
       "      <th>2</th>\n",
       "      <td>3</td>\n",
       "      <td>4.7</td>\n",
       "      <td>3.2</td>\n",
       "      <td>1.3</td>\n",
       "      <td>0.2</td>\n",
       "      <td>Iris-setosa</td>\n",
       "    </tr>\n",
       "    <tr>\n",
       "      <th>3</th>\n",
       "      <td>4</td>\n",
       "      <td>4.6</td>\n",
       "      <td>3.1</td>\n",
       "      <td>1.5</td>\n",
       "      <td>0.2</td>\n",
       "      <td>Iris-setosa</td>\n",
       "    </tr>\n",
       "    <tr>\n",
       "      <th>4</th>\n",
       "      <td>5</td>\n",
       "      <td>5.0</td>\n",
       "      <td>3.6</td>\n",
       "      <td>1.4</td>\n",
       "      <td>0.2</td>\n",
       "      <td>Iris-setosa</td>\n",
       "    </tr>\n",
       "    <tr>\n",
       "      <th>...</th>\n",
       "      <td>...</td>\n",
       "      <td>...</td>\n",
       "      <td>...</td>\n",
       "      <td>...</td>\n",
       "      <td>...</td>\n",
       "      <td>...</td>\n",
       "    </tr>\n",
       "    <tr>\n",
       "      <th>145</th>\n",
       "      <td>146</td>\n",
       "      <td>6.7</td>\n",
       "      <td>3.0</td>\n",
       "      <td>5.2</td>\n",
       "      <td>2.3</td>\n",
       "      <td>Iris-virginica</td>\n",
       "    </tr>\n",
       "    <tr>\n",
       "      <th>146</th>\n",
       "      <td>147</td>\n",
       "      <td>6.3</td>\n",
       "      <td>2.5</td>\n",
       "      <td>5.0</td>\n",
       "      <td>1.9</td>\n",
       "      <td>Iris-virginica</td>\n",
       "    </tr>\n",
       "    <tr>\n",
       "      <th>147</th>\n",
       "      <td>148</td>\n",
       "      <td>6.5</td>\n",
       "      <td>3.0</td>\n",
       "      <td>5.2</td>\n",
       "      <td>2.0</td>\n",
       "      <td>Iris-virginica</td>\n",
       "    </tr>\n",
       "    <tr>\n",
       "      <th>148</th>\n",
       "      <td>149</td>\n",
       "      <td>6.2</td>\n",
       "      <td>3.4</td>\n",
       "      <td>5.4</td>\n",
       "      <td>2.3</td>\n",
       "      <td>Iris-virginica</td>\n",
       "    </tr>\n",
       "    <tr>\n",
       "      <th>149</th>\n",
       "      <td>150</td>\n",
       "      <td>5.9</td>\n",
       "      <td>3.0</td>\n",
       "      <td>5.1</td>\n",
       "      <td>1.8</td>\n",
       "      <td>Iris-virginica</td>\n",
       "    </tr>\n",
       "  </tbody>\n",
       "</table>\n",
       "<p>150 rows × 6 columns</p>\n",
       "</div>"
      ],
      "text/plain": [
       "      Id  SepalLengthCm  SepalWidthCm  PetalLengthCm  PetalWidthCm  \\\n",
       "0      1            5.1           3.5            1.4           0.2   \n",
       "1      2            4.9           3.0            1.4           0.2   \n",
       "2      3            4.7           3.2            1.3           0.2   \n",
       "3      4            4.6           3.1            1.5           0.2   \n",
       "4      5            5.0           3.6            1.4           0.2   \n",
       "..   ...            ...           ...            ...           ...   \n",
       "145  146            6.7           3.0            5.2           2.3   \n",
       "146  147            6.3           2.5            5.0           1.9   \n",
       "147  148            6.5           3.0            5.2           2.0   \n",
       "148  149            6.2           3.4            5.4           2.3   \n",
       "149  150            5.9           3.0            5.1           1.8   \n",
       "\n",
       "            Species  \n",
       "0       Iris-setosa  \n",
       "1       Iris-setosa  \n",
       "2       Iris-setosa  \n",
       "3       Iris-setosa  \n",
       "4       Iris-setosa  \n",
       "..              ...  \n",
       "145  Iris-virginica  \n",
       "146  Iris-virginica  \n",
       "147  Iris-virginica  \n",
       "148  Iris-virginica  \n",
       "149  Iris-virginica  \n",
       "\n",
       "[150 rows x 6 columns]"
      ]
     },
     "execution_count": 165,
     "metadata": {},
     "output_type": "execute_result"
    }
   ],
   "source": [
    "df_cleaned = df.dropna()\n",
    "df_cleaned"
   ]
  },
  {
   "cell_type": "code",
   "execution_count": 166,
   "id": "0f43848a-2256-4ff7-bee0-b3851c740a85",
   "metadata": {},
   "outputs": [],
   "source": [
    "df_cleaned.to_csv('cleaned_dataset.csv',index=False)"
   ]
  },
  {
   "cell_type": "markdown",
   "id": "03c5c058-d701-4caa-a145-996dba3916c7",
   "metadata": {},
   "source": [
    "## Question 4"
   ]
  },
  {
   "cell_type": "markdown",
   "id": "79654dab-1781-4aca-afb5-351083a660f3",
   "metadata": {},
   "source": [
    "### Statistical or categorical description using the Pandas describe function. Provide written observations."
   ]
  },
  {
   "cell_type": "code",
   "execution_count": 167,
   "id": "ff5236fb-99a8-49c8-8a7d-a6634c992573",
   "metadata": {},
   "outputs": [],
   "source": [
    "Statistical_description = df_cleaned.describe()\n",
    "categorical_description = df_cleaned.describe(include = 'O')"
   ]
  },
  {
   "cell_type": "code",
   "execution_count": 168,
   "id": "c9073175-f9ac-4e8b-8264-c6e32d7a98f5",
   "metadata": {},
   "outputs": [
    {
     "name": "stdout",
     "output_type": "stream",
     "text": [
      "               Id  SepalLengthCm  SepalWidthCm  PetalLengthCm  PetalWidthCm\n",
      "count  150.000000     150.000000    150.000000     150.000000    150.000000\n",
      "mean    75.500000       5.843333      3.054000       3.758667      1.198667\n",
      "std     43.445368       0.828066      0.433594       1.764420      0.763161\n",
      "min      1.000000       4.300000      2.000000       1.000000      0.100000\n",
      "25%     38.250000       5.100000      2.800000       1.600000      0.300000\n",
      "50%     75.500000       5.800000      3.000000       4.350000      1.300000\n",
      "75%    112.750000       6.400000      3.300000       5.100000      1.800000\n",
      "max    150.000000       7.900000      4.400000       6.900000      2.500000\n"
     ]
    }
   ],
   "source": [
    "print(Statistical_description)"
   ]
  },
  {
   "cell_type": "code",
   "execution_count": 169,
   "id": "8b4931e1-f081-4851-af64-f853127fcbdc",
   "metadata": {},
   "outputs": [
    {
     "name": "stdout",
     "output_type": "stream",
     "text": [
      "            Species\n",
      "count           150\n",
      "unique            3\n",
      "top     Iris-setosa\n",
      "freq             50\n"
     ]
    }
   ],
   "source": [
    "print(categorical_description)"
   ]
  },
  {
   "cell_type": "markdown",
   "id": "2edb7947-30af-4a8c-95a2-ca1c8563db4f",
   "metadata": {},
   "source": [
    "#### _Statistical description: It reveals the information about the numerical features in the dataset, such as the count of non-null values, mean, stantard deviation, minimum, 25th , 50th, 75th percentile and the maximum values through which we can get the sense of central tendency and the spread of each numerical feature._\n",
    "#### _Categorical description: It reveals information about the object features in the dataset such as its count of non-null values, the number of unique values, the most frequently occuring value and the frequency of the top value. This information is useful for understanding the distribution and variability of categorical features as well as identifying data quality issues such as missing values or unexpected values._"
   ]
  },
  {
   "cell_type": "markdown",
   "id": "b07db886-8516-4d4a-a822-2658692c94c3",
   "metadata": {},
   "source": [
    "## Question 5"
   ]
  },
  {
   "cell_type": "markdown",
   "id": "8e77adf4-f501-43fd-b477-5f6b5eab9269",
   "metadata": {},
   "source": [
    "### Bar graph showing the count of each class. Provide written observations"
   ]
  },
  {
   "cell_type": "code",
   "execution_count": 170,
   "id": "2cafd7fe-70cd-43d9-ad5f-312d276134fd",
   "metadata": {},
   "outputs": [],
   "source": [
    "class_count = df_cleaned['Species'].value_counts()"
   ]
  },
  {
   "cell_type": "code",
   "execution_count": 171,
   "id": "559a3493-8476-47f1-83c2-b98d02c904be",
   "metadata": {},
   "outputs": [
    {
     "data": {
      "image/png": "[encoded data removed]",
      "text/plain": [
       "<Figure size 800x600 with 1 Axes>"
      ]
     },
     "metadata": {},
     "output_type": "display_data"
    }
   ],
   "source": [
    "plt.figure(figsize=(8,6))\n",
    "class_count.plot(kind = 'bar',color='green')\n",
    "plt.title('Count of each class')\n",
    "plt.xlabel('Class')\n",
    "plt.ylabel('Count')\n",
    "plt.show()"
   ]
  },
  {
   "cell_type": "markdown",
   "id": "607d9dbe-fbaf-417d-b6ec-16140aa72a06",
   "metadata": {},
   "source": [
    "#### _The bar graph visually represents the distribution of classes in the dataset. By examining the heights of the bars, we can observe the relative frequency of each class in the dataset. It provides insights into the class imbalance and if one class significantly dominates the others, it may indicate a potential imbalance issue that needs to be addressed during data preprocessing and model training. This part is crucial for selecting appropriate evaluation metrics and designing effective machine learning models._"
   ]
  },
  {
   "cell_type": "markdown",
   "id": "c9c06459-9b31-4b9c-b4a0-b97510f67a0b",
   "metadata": {},
   "source": [
    "## **Model Development using decision tree**"
   ]
  },
  {
   "cell_type": "markdown",
   "id": "faf7667f-b388-4853-bec0-77627656b54c",
   "metadata": {},
   "source": [
    "## Part 1"
   ]
  },
  {
   "cell_type": "markdown",
   "id": "264f9afc-a2ad-4a54-948a-0dfdc2e44394",
   "metadata": {},
   "source": [
    "###  Split the data into training, validation, and testing sets. Try different proportions and justify the final choices."
   ]
  },
  {
   "cell_type": "code",
   "execution_count": 172,
   "id": "f24c17e6-bd79-4f12-913b-aee4bfcd282f",
   "metadata": {},
   "outputs": [],
   "source": [
    "x = df_cleaned.drop(columns=['Species'])\n",
    "y = df_cleaned['Species']"
   ]
  },
  {
   "cell_type": "code",
   "execution_count": 173,
   "id": "8d55382f-7293-493a-a269-17dbbb04a2d3",
   "metadata": {},
   "outputs": [],
   "source": [
    "x_train, x_temp, y_train, y_temp = train_test_split(x, y, test_size=0.3,\n",
    "random_state=42)\n",
    "x_valid, x_test, y_valid, y_test = train_test_split(x_temp, y_temp,\n",
    "test_size=0.5, random_state=42)"
   ]
  },
  {
   "cell_type": "markdown",
   "id": "9f35f415-56f5-4d20-9a97-a8b7695ad0b2",
   "metadata": {},
   "source": [
    "#### A common split ratio is 60-20-20 (training, validation and testing). However, for a smaller dataset like this with only 150 rows, its essential to ensure each set has enough data to provide meaningful evaluation and tuning. So thats why we will use 75-15-15 to get effecient model performance."
   ]
  },
  {
   "cell_type": "markdown",
   "id": "31626989-2ed4-4abf-9681-26a318effedb",
   "metadata": {},
   "source": [
    "## Part 2"
   ]
  },
  {
   "cell_type": "markdown",
   "id": "cb33ba04-097a-43d5-bbd1-a216c9e834cd",
   "metadata": {},
   "source": [
    "### Try both Gini impurity index and Entropy as a condition for splitting branches. Experiment with different values of max_depth, max_features, min_impurity_decrease, min_samples_leaf, min_samples_split, and any other hyperparameters you wish. Keep your best two (or more) models."
   ]
  },
  {
   "cell_type": "code",
   "execution_count": 174,
   "id": "d92977a0-9fc3-4e11-837f-fedf5d293d71",
   "metadata": {},
   "outputs": [
    {
     "name": "stdout",
     "output_type": "stream",
     "text": [
      "Fitting 5 folds for each of 324 candidates, totalling 1620 fits\n"
     ]
    },
    {
     "name": "stderr",
     "output_type": "stream",
     "text": [
      "[Parallel(n_jobs=1)]: Using backend SequentialBackend with 1 concurrent workers.\n",
      "[Parallel(n_jobs=1)]: Done 1620 out of 1620 | elapsed:    5.9s finished\n",
      "[Parallel(n_jobs=1)]: Using backend SequentialBackend with 1 concurrent workers.\n"
     ]
    },
    {
     "name": "stdout",
     "output_type": "stream",
     "text": [
      "Fitting 5 folds for each of 324 candidates, totalling 1620 fits\n"
     ]
    },
    {
     "name": "stderr",
     "output_type": "stream",
     "text": [
      "[Parallel(n_jobs=1)]: Done 1620 out of 1620 | elapsed:    5.8s finished\n"
     ]
    },
    {
     "data": {
      "text/plain": [
       "GridSearchCV(cv=5, error_score=nan,\n",
       "             estimator=DecisionTreeClassifier(ccp_alpha=0.0, class_weight=None,\n",
       "                                              criterion='gini', max_depth=None,\n",
       "                                              max_features=None,\n",
       "                                              max_leaf_nodes=None,\n",
       "                                              min_impurity_decrease=0.0,\n",
       "                                              min_impurity_split=None,\n",
       "                                              min_samples_leaf=1,\n",
       "                                              min_samples_split=2,\n",
       "                                              min_weight_fraction_leaf=0.0,\n",
       "                                              presort='deprecated',\n",
       "                                              random_state=62,\n",
       "                                              splitter='best'),\n",
       "             iid='deprecated', n_jobs=None,\n",
       "             param_grid={'criterion': ['entropy'],\n",
       "                         'max_depth': [None, 5, 10, 15],\n",
       "                         'max_features': ['auto', 'sqrt', 'log2'],\n",
       "                         'min_impurity_decrease': [0.0, 0.1, 0.2],\n",
       "                         'min_samples_leaf': [1, 2, 4],\n",
       "                         'min_samples_split': [2, 5, 10]},\n",
       "             pre_dispatch='2*n_jobs', refit=True, return_train_score=False,\n",
       "             scoring='accuracy', verbose=1)"
      ]
     },
     "execution_count": 174,
     "metadata": {},
     "output_type": "execute_result"
    }
   ],
   "source": [
    "# Define the parameter grid to search\n",
    "param_grid_gini = {\n",
    "    'criterion': ['gini'],\n",
    "    'max_depth': [None, 5, 10, 15],\n",
    "    'max_features': ['auto', 'sqrt', 'log2'],\n",
    "    'min_samples_leaf': [1, 2, 4],\n",
    "    'min_samples_split': [2, 5, 10],\n",
    "    'min_impurity_decrease': [0.0, 0.1, 0.2]\n",
    "}\n",
    "\n",
    "param_grid_entropy = {\n",
    "    'criterion': ['entropy'],\n",
    "    'max_depth': [None, 5, 10, 15],\n",
    "    'max_features': ['auto', 'sqrt', 'log2'],\n",
    "    'min_samples_leaf': [1, 2, 4],\n",
    "    'min_samples_split': [2, 5, 10],\n",
    "    'min_impurity_decrease': [0.0, 0.1, 0.2]\n",
    "}\n",
    "\n",
    "# Initialize the decision tree classifier\n",
    "dtree_gini = DecisionTreeClassifier(random_state = 32)\n",
    "dtree_entropy = DecisionTreeClassifier(random_state = 62)\n",
    "\n",
    "# Perform grid search using cross validation\n",
    "grid_search_gini = GridSearchCV(dtree_gini, param_grid_gini, cv=5, \n",
    "        scoring = 'accuracy', verbose = 1)\n",
    "grid_search_gini.fit(x_train,y_train)\n",
    "\n",
    "grid_search_entropy = GridSearchCV(dtree_entropy, param_grid_entropy, cv=5, \n",
    "        scoring = 'accuracy', verbose = 1)\n",
    "grid_search_entropy.fit(x_train,y_train)"
   ]
  },
  {
   "cell_type": "code",
   "execution_count": 175,
   "id": "909ffe9d-8781-493e-abfc-00c48f71d24b",
   "metadata": {},
   "outputs": [
    {
     "name": "stdout",
     "output_type": "stream",
     "text": [
      "Best model with gini impurity: \n",
      "Best Parametres of gini index:  {'criterion': 'gini', 'max_depth': None, 'max_features': 'auto', 'min_impurity_decrease': 0.0, 'min_samples_leaf': 1, 'min_samples_split': 2}\n",
      "Best Scores of gini index:  0.9904761904761905\n",
      "Best model with Entropy: \n",
      "Best Parametres of entropy:  {'criterion': 'entropy', 'max_depth': None, 'max_features': 'auto', 'min_impurity_decrease': 0.0, 'min_samples_leaf': 1, 'min_samples_split': 2}\n",
      "Best Scores of entropy:  0.9904761904761905\n"
     ]
    }
   ],
   "source": [
    "# Get the best parametres and best score for gini index\n",
    "best_model_gini = grid_search_gini.best_estimator_\n",
    "best_params_gini = grid_search_gini.best_params_\n",
    "best_score_gini = grid_search_gini.best_score_\n",
    "\n",
    "# Get the best parametres and best score for entropy\n",
    "best_model_entropy = grid_search_entropy.best_estimator_\n",
    "best_params_entropy = grid_search_entropy.best_params_\n",
    "best_score_entropy = grid_search_entropy.best_score_\n",
    "\n",
    "# Printing the best parametres and best score of the gini and entropy grid search\n",
    "print(\"Best model with gini impurity: \")\n",
    "print(\"Best Parametres of gini index: \" , best_params_gini)\n",
    "print(\"Best Scores of gini index: \" , best_score_gini)\n",
    "\n",
    "print(\"Best model with Entropy: \")\n",
    "print(\"Best Parametres of entropy: \" , best_params_entropy)\n",
    "print(\"Best Scores of entropy: \" , best_score_entropy)"
   ]
  },
  {
   "cell_type": "code",
   "execution_count": 176,
   "id": "90659208-0496-428e-b3f9-e20aa8c6d13c",
   "metadata": {},
   "outputs": [
    {
     "data": {
      "text/plain": [
       "DecisionTreeClassifier(ccp_alpha=0.0, class_weight=None, criterion='entropy',\n",
       "                       max_depth=None, max_features='auto', max_leaf_nodes=None,\n",
       "                       min_impurity_decrease=0.0, min_impurity_split=None,\n",
       "                       min_samples_leaf=1, min_samples_split=2,\n",
       "                       min_weight_fraction_leaf=0.0, presort='deprecated',\n",
       "                       random_state=None, splitter='best')"
      ]
     },
     "execution_count": 176,
     "metadata": {},
     "output_type": "execute_result"
    }
   ],
   "source": [
    "# Train the model with the best parametres\n",
    "best_dtree_gini = DecisionTreeClassifier(**best_params_gini)\n",
    "best_dtree_gini.fit(x_train,y_train)\n",
    "\n",
    "best_dtree_entropy = DecisionTreeClassifier(**best_params_entropy)\n",
    "best_dtree_entropy.fit(x_train,y_train)"
   ]
  },
  {
   "cell_type": "code",
   "execution_count": 177,
   "id": "647caedb-5580-48f9-8569-fad3f389e69c",
   "metadata": {},
   "outputs": [
    {
     "name": "stdout",
     "output_type": "stream",
     "text": [
      "Test Accuracy with gini index:  1.0\n",
      "Test Accuracy with entropy:  1.0\n"
     ]
    }
   ],
   "source": [
    "# Evaluate the model on the testing set\n",
    "test_accuracy_gini = best_dtree_gini.score(x_test,y_test)\n",
    "print(\"Test Accuracy with gini index: \" , test_accuracy_gini)\n",
    "\n",
    "test_accuracy_entropy = best_dtree_entropy.score(x_test,y_test)\n",
    "print(\"Test Accuracy with entropy: \" , test_accuracy_entropy)"
   ]
  },
  {
   "cell_type": "markdown",
   "id": "09c02635-a964-405c-bdc8-3d35b02eeb1d",
   "metadata": {},
   "source": [
    "## Part 3"
   ]
  },
  {
   "cell_type": "markdown",
   "id": "2054ef17-a072-4b7e-b4f0-7f76781cd549",
   "metadata": {},
   "source": [
    "###  On your best decision tree models, use the classification_report and confusion_matrix functions in sklearn to display metrics, using training and validation (but not testing) data. Also use the display_tree method in utils.py to display each tree."
   ]
  },
  {
   "cell_type": "code",
   "execution_count": 178,
   "id": "58653fab-709f-4096-bca9-9a169d00f26b",
   "metadata": {},
   "outputs": [
    {
     "name": "stdout",
     "output_type": "stream",
     "text": [
      "Metrics for the best model (gini impurity) on training data: \n",
      "                 precision    recall  f1-score   support\n",
      "\n",
      "    Iris-setosa       1.00      1.00      1.00        31\n",
      "Iris-versicolor       1.00      1.00      1.00        37\n",
      " Iris-virginica       1.00      1.00      1.00        37\n",
      "\n",
      "       accuracy                           1.00       105\n",
      "      macro avg       1.00      1.00      1.00       105\n",
      "   weighted avg       1.00      1.00      1.00       105\n",
      "\n",
      "Confusion_matrix for the best model (gini impurity) on training data: \n",
      "[[31  0  0]\n",
      " [ 0 37  0]\n",
      " [ 0  0 37]]\n",
      "Metrics for the best model (gini impurity) on validation data: \n",
      "                 precision    recall  f1-score   support\n",
      "\n",
      "    Iris-setosa       1.00      1.00      1.00        13\n",
      "Iris-versicolor       1.00      1.00      1.00         3\n",
      " Iris-virginica       1.00      1.00      1.00         6\n",
      "\n",
      "       accuracy                           1.00        22\n",
      "      macro avg       1.00      1.00      1.00        22\n",
      "   weighted avg       1.00      1.00      1.00        22\n",
      "\n",
      "Confusion_matrix for the best model (gini impurity) on validation data: \n",
      "[[13  0  0]\n",
      " [ 0  3  0]\n",
      " [ 0  0  6]]\n",
      "Decision tree for the best model (Gini impurity): \n"
     ]
    },
    {
     "data": {
      "image/png": "[encoded data removed]",
      "text/plain": [
       "<IPython.core.display.Image object>"
      ]
     },
     "execution_count": 178,
     "metadata": {},
     "output_type": "execute_result"
    }
   ],
   "source": [
    "# Display metrics and decision tree for the best model trained with gini impurity\n",
    "print(\"Metrics for the best model (gini impurity) on training data: \")\n",
    "print(classification_report(y_train, best_model_gini.predict(x_train)))\n",
    "\n",
    "print(\"Confusion_matrix for the best model (gini impurity) on training data: \")\n",
    "print(confusion_matrix(y_train, best_model_gini.predict(x_train)))\n",
    "\n",
    "# Display metrics and decision tree for the best model trained with gini impurity\n",
    "print(\"Metrics for the best model (gini impurity) on validation data: \")\n",
    "print(classification_report(y_valid, best_model_gini.predict(x_valid)))\n",
    "\n",
    "print(\"Confusion_matrix for the best model (gini impurity) on validation data: \")\n",
    "print(confusion_matrix(y_valid, best_model_gini.predict(x_valid)))\n",
    "\n",
    "print(\"Decision tree for the best model (Gini impurity): \")\n",
    "display_tree(best_model_gini)"
   ]
  },
  {
   "cell_type": "code",
   "execution_count": 179,
   "id": "6f85b7ed-56f6-4d51-8a7b-5c838d378a30",
   "metadata": {},
   "outputs": [
    {
     "name": "stdout",
     "output_type": "stream",
     "text": [
      "Metrics for the best model (entropy) on training data: \n",
      "                 precision    recall  f1-score   support\n",
      "\n",
      "    Iris-setosa       1.00      1.00      1.00        31\n",
      "Iris-versicolor       1.00      1.00      1.00        37\n",
      " Iris-virginica       1.00      1.00      1.00        37\n",
      "\n",
      "       accuracy                           1.00       105\n",
      "      macro avg       1.00      1.00      1.00       105\n",
      "   weighted avg       1.00      1.00      1.00       105\n",
      "\n",
      "Confusion_matrix for the best model (entropy) on training data: \n",
      "[[31  0  0]\n",
      " [ 0 37  0]\n",
      " [ 0  0 37]]\n",
      "Metrics for the best model (entropy) on validation data: \n",
      "                 precision    recall  f1-score   support\n",
      "\n",
      "    Iris-setosa       1.00      1.00      1.00        13\n",
      "Iris-versicolor       1.00      1.00      1.00         3\n",
      " Iris-virginica       1.00      1.00      1.00         6\n",
      "\n",
      "       accuracy                           1.00        22\n",
      "      macro avg       1.00      1.00      1.00        22\n",
      "   weighted avg       1.00      1.00      1.00        22\n",
      "\n",
      "Confusion_matrix for the best model (entropy) on validation data: \n",
      "[[13  0  0]\n",
      " [ 0  3  0]\n",
      " [ 0  0  6]]\n",
      "Decision tree for the best model (entropy): \n"
     ]
    },
    {
     "data": {
      "image/png": "[encoded data removed]",
      "text/plain": [
       "<IPython.core.display.Image object>"
      ]
     },
     "execution_count": 179,
     "metadata": {},
     "output_type": "execute_result"
    }
   ],
   "source": [
    "# Display metrics and decision tree for the best model trained with gini impurity\n",
    "print(\"Metrics for the best model (entropy) on training data: \")\n",
    "print(classification_report(y_train, best_model_entropy.predict(x_train)))\n",
    "\n",
    "print(\"Confusion_matrix for the best model (entropy) on training data: \")\n",
    "print(confusion_matrix(y_train, best_model_entropy.predict(x_train)))\n",
    "\n",
    "print(\"Metrics for the best model (entropy) on validation data: \")\n",
    "print(classification_report(y_valid, best_model_entropy.predict(x_valid)))\n",
    "\n",
    "print(\"Confusion_matrix for the best model (entropy) on validation data: \")\n",
    "print(confusion_matrix(y_valid, best_model_entropy.predict(x_valid)))\n",
    "\n",
    "print(\"Decision tree for the best model (entropy): \")\n",
    "display_tree(best_model_entropy)"
   ]
  },
  {
   "cell_type": "markdown",
   "id": "5f5869ef-d010-43e0-84d5-c9cb3734d8a7",
   "metadata": {},
   "source": [
    "#### Gini Impurity (Training metrics): The classification report shows high precision, recall, and F1-score for all classes (setosa, versicolor, virginica), indicating good performance on the training data. The confusion matrix displays high counts in diagonal elements (true positives) and low counts in off-diagonal elements (false positives and false negatives), indicating effective classification. The decision tree visualization appears to have a balanced structure without excessive depth or complexity, suggesting good generalization ability.\n",
    "#### Gini Impurity (Validation metrics): The classification report on the validation data shows consistent performance with high precision, recall, and F1-score for all classes, indicating good generalization ability. The confusion matrix on the validation data also exhibits a balanced distribution with high counts in diagonal elements, confirming the model's ability to generalize to unseen data. The decision tree visualization on the validation data reflects a similar structure to the training data, indicating robustness and consistency in model performance."
   ]
  },
  {
   "cell_type": "markdown",
   "id": "bbb4aaea-c956-4525-965b-1dabc915989a",
   "metadata": {},
   "source": [
    "#### Entropy(Training metrics): The classification report and confusion matrix for the model trained with entropy criterion exhibit similar patterns to the Gini impurity model, with high performance metrics and a well-balanced confusion matrix. The decision tree visualization also shows a structured and balanced tree, indicating effective learning from the training data.\n",
    "#### Entropy(Validation metrics): The classification report and confusion matrix on the validation data for the entropy-based model demonstrate consistent performance with high precision, recall, and F1-score for all classes. The decision tree visualization on the validation data reflects a similar structure to the training data, confirming the model's ability to generalize effectively."
   ]
  },
  {
   "cell_type": "markdown",
   "id": "90e6d135-bf75-490c-ab2e-11bedeef029b",
   "metadata": {},
   "source": [
    "### Overall analysis and final decision"
   ]
  },
  {
   "cell_type": "markdown",
   "id": "d5a7072f-8ef0-4545-b52c-0f46289075f0",
   "metadata": {},
   "source": [
    "### _Based on the analysis of training and validation metrics, we have selected the final set of hyperparameters that result in effective learning, generalization, and robust performance for both Gini impurity and entropy criteria. These hyperparameters demonstrate the best trade-off between bias and variance, ensuring optimal performance on unseen data while avoiding overfitting._"
   ]
  },
  {
   "cell_type": "markdown",
   "id": "f11df9c2-1cc2-48e8-8886-6d5e9e76f77d",
   "metadata": {},
   "source": [
    "## **Model Development using SVM (support vector machines)**"
   ]
  },
  {
   "cell_type": "markdown",
   "id": "6f053883-9366-48ce-acea-d067ad5e2208",
   "metadata": {},
   "source": [
    "## Part 1"
   ]
  },
  {
   "cell_type": "markdown",
   "id": "e0c76f5c-e7d5-435a-96ab-c9b46e3d1efa",
   "metadata": {},
   "source": [
    "###  Split the data into training, validation, and testing sets. Try different proportions and justify the final choices."
   ]
  },
  {
   "cell_type": "code",
   "execution_count": 180,
   "id": "bd217009-50e4-47b3-a2cd-d85ed1a1656e",
   "metadata": {},
   "outputs": [],
   "source": [
    "x = df_cleaned.drop(columns=['Species'])\n",
    "y = df_cleaned['Species']"
   ]
  },
  {
   "cell_type": "code",
   "execution_count": 181,
   "id": "789a7969-a372-4bc9-988f-7afc199be2c2",
   "metadata": {},
   "outputs": [],
   "source": [
    "x_train, x_temp, y_train, y_temp = train_test_split(x, y, test_size=0.3,\n",
    "random_state=42)\n",
    "x_valid, x_test, y_valid, y_test = train_test_split(x_temp, y_temp,\n",
    "test_size=0.5, random_state=42)"
   ]
  },
  {
   "cell_type": "markdown",
   "id": "2d0adac6-9d6e-4af4-bbd0-8c6eeba6cc52",
   "metadata": {},
   "source": [
    "#### A common split ratio is 60-20-20 (training, validation and testing). However, for a smaller dataset like this with only 150 rows, its essential to ensure each set has enough data to provide meaningful evaluation and tuning. So thats why we will use 75-15-15 to get effecient model performance."
   ]
  },
  {
   "cell_type": "markdown",
   "id": "cf2a5e89-0e4d-43b1-b8a5-d062afd965c9",
   "metadata": {},
   "source": [
    "## Part 2"
   ]
  },
  {
   "cell_type": "markdown",
   "id": "e5ad847b-2480-4eec-bc4e-57aed244c609",
   "metadata": {},
   "source": [
    "### Experiment with different values of the C parameter; try the linear, rbf (with different choices of gamma) and polynomial kernels (with different degrees); try both options for decision_function_shape. Keep your best two models."
   ]
  },
  {
   "cell_type": "code",
   "execution_count": 182,
   "id": "9528d439-46c9-4f33-aada-cd703d0579eb",
   "metadata": {},
   "outputs": [],
   "source": [
    "# Define the parameter grid for grid search\n",
    "param_grid_2 = [\n",
    "    {'kernel': ['linear'], 'C': [0.1, 1, 10, 100], 'decision_function_shape': ['ovo', 'ovr']},\n",
    "    {'kernel': ['rbf'], 'C': [0.1, 1, 10, 100], 'gamma': [0.1, 0.01, 0.001], 'decision_function_shape': ['ovo', 'ovr']},\n",
    "    {'kernel': ['poly'], 'C': [0.1, 1, 10, 100], 'degree': [2, 3, 4], 'decision_function_shape': ['ovo', 'ovr']}\n",
    "]"
   ]
  },
  {
   "cell_type": "code",
   "execution_count": 183,
   "id": "90d9c791-26de-4f1e-ab13-5fae3cf135a3",
   "metadata": {},
   "outputs": [],
   "source": [
    "# Initialize the SVC classifier\n",
    "svm = SVC()"
   ]
  },
  {
   "cell_type": "code",
   "execution_count": 184,
   "id": "e0fae8e9-6082-487f-b342-863466597939",
   "metadata": {},
   "outputs": [
    {
     "name": "stdout",
     "output_type": "stream",
     "text": [
      "Fitting 5 folds for each of 56 candidates, totalling 280 fits\n"
     ]
    },
    {
     "name": "stderr",
     "output_type": "stream",
     "text": [
      "[Parallel(n_jobs=1)]: Using backend SequentialBackend with 1 concurrent workers.\n",
      "[Parallel(n_jobs=1)]: Done 280 out of 280 | elapsed:    1.2s finished\n"
     ]
    },
    {
     "data": {
      "text/plain": [
       "GridSearchCV(cv=5, error_score=nan,\n",
       "             estimator=SVC(C=1.0, break_ties=False, cache_size=200,\n",
       "                           class_weight=None, coef0=0.0,\n",
       "                           decision_function_shape='ovr', degree=3,\n",
       "                           gamma='scale', kernel='rbf', max_iter=-1,\n",
       "                           probability=False, random_state=None, shrinking=True,\n",
       "                           tol=0.001, verbose=False),\n",
       "             iid='deprecated', n_jobs=None,\n",
       "             param_grid=[{'C': [0.1, 1, 10, 100],\n",
       "                          'decision_function_shape': ['ovo', 'ovr'],\n",
       "                          'kernel': ['linear']},\n",
       "                         {'C': [0.1, 1, 10, 100],\n",
       "                          'decision_function_shape': ['ovo', 'ovr'],\n",
       "                          'gamma': [0.1, 0.01, 0.001], 'kernel': ['rbf']},\n",
       "                         {'C': [0.1, 1, 10, 100],\n",
       "                          'decision_function_shape': ['ovo', 'ovr'],\n",
       "                          'degree': [2, 3, 4], 'kernel': ['poly']}],\n",
       "             pre_dispatch='2*n_jobs', refit=True, return_train_score=False,\n",
       "             scoring='accuracy', verbose=1)"
      ]
     },
     "execution_count": 184,
     "metadata": {},
     "output_type": "execute_result"
    }
   ],
   "source": [
    "# Perform grid search using cross-validation\n",
    "grid_search_2 = GridSearchCV(svm, param_grid_2, cv=5, scoring='accuracy', verbose=1)\n",
    "grid_search_2.fit(x_train, y_train)"
   ]
  },
  {
   "cell_type": "code",
   "execution_count": 185,
   "id": "017caacf-da6d-46ac-b8b6-233c3f65c610",
   "metadata": {},
   "outputs": [
    {
     "name": "stdout",
     "output_type": "stream",
     "text": [
      "Top Model 1:\n",
      "Parameters: {'C': 0.1, 'decision_function_shape': 'ovo', 'kernel': 'linear'}\n",
      "Mean Test Score: 1.0\n",
      "Top Model 2:\n",
      "Parameters: {'C': 100, 'decision_function_shape': 'ovr', 'gamma': 0.001, 'kernel': 'rbf'}\n",
      "Mean Test Score: 1.0\n"
     ]
    }
   ],
   "source": [
    "# Get the top two models and their scores\n",
    "results = grid_search_2.cv_results_ #  It contains information about each combination of hyperparameters that was tried during the grid search, including the mean test scores.\n",
    "top_indices = (-results['mean_test_score']).argsort()[:2] # This line identifies the indices of the top two models based on their mean test scores. \n",
    "\n",
    "# Print the top two models and their scores\n",
    "for i, idx in enumerate(top_indices):\n",
    "    print(f\"Top Model {i+1}:\")\n",
    "    print(\"Parameters:\", results['params'][idx])\n",
    "    print(\"Mean Test Score:\", results['mean_test_score'][idx])\n"
   ]
  },
  {
   "cell_type": "markdown",
   "id": "850d5d88-f3d7-4064-b0f2-ad32445aca82",
   "metadata": {},
   "source": [
    "## Part 3"
   ]
  },
  {
   "cell_type": "markdown",
   "id": "c0578c6e-895a-4302-a755-931befe6e55b",
   "metadata": {},
   "source": [
    "###  Use the classification_report and confusion_matrix functions in sklearn to display metrics for your best models, using training and validation (but not testing) data."
   ]
  },
  {
   "cell_type": "code",
   "execution_count": 186,
   "id": "5908e6ba-192b-4f01-a627-6f3a7d9ddb0f",
   "metadata": {},
   "outputs": [
    {
     "name": "stdout",
     "output_type": "stream",
     "text": [
      "\n",
      "Metrics for the top model 1 on training data:\n",
      "                 precision    recall  f1-score   support\n",
      "\n",
      "    Iris-setosa       1.00      1.00      1.00        31\n",
      "Iris-versicolor       1.00      1.00      1.00        37\n",
      " Iris-virginica       1.00      1.00      1.00        37\n",
      "\n",
      "       accuracy                           1.00       105\n",
      "      macro avg       1.00      1.00      1.00       105\n",
      "   weighted avg       1.00      1.00      1.00       105\n",
      "\n",
      "Confusion matrix for the top model {i+1} on training data:\n",
      "[[31  0  0]\n",
      " [ 0 37  0]\n",
      " [ 0  0 37]]\n",
      "\n",
      "Metrics for the top model 1 on validation data:\n",
      "                 precision    recall  f1-score   support\n",
      "\n",
      "    Iris-setosa       1.00      1.00      1.00        13\n",
      "Iris-versicolor       1.00      1.00      1.00         3\n",
      " Iris-virginica       1.00      1.00      1.00         6\n",
      "\n",
      "       accuracy                           1.00        22\n",
      "      macro avg       1.00      1.00      1.00        22\n",
      "   weighted avg       1.00      1.00      1.00        22\n",
      "\n",
      "Confusion matrix for the top model {i+1} on validation data:\n",
      "[[13  0  0]\n",
      " [ 0  3  0]\n",
      " [ 0  0  6]]\n",
      "\n",
      "Metrics for the top model 2 on training data:\n",
      "                 precision    recall  f1-score   support\n",
      "\n",
      "    Iris-setosa       1.00      1.00      1.00        31\n",
      "Iris-versicolor       1.00      1.00      1.00        37\n",
      " Iris-virginica       1.00      1.00      1.00        37\n",
      "\n",
      "       accuracy                           1.00       105\n",
      "      macro avg       1.00      1.00      1.00       105\n",
      "   weighted avg       1.00      1.00      1.00       105\n",
      "\n",
      "Confusion matrix for the top model {i+1} on training data:\n",
      "[[31  0  0]\n",
      " [ 0 37  0]\n",
      " [ 0  0 37]]\n",
      "\n",
      "Metrics for the top model 2 on validation data:\n",
      "                 precision    recall  f1-score   support\n",
      "\n",
      "    Iris-setosa       1.00      1.00      1.00        13\n",
      "Iris-versicolor       1.00      1.00      1.00         3\n",
      " Iris-virginica       1.00      1.00      1.00         6\n",
      "\n",
      "       accuracy                           1.00        22\n",
      "      macro avg       1.00      1.00      1.00        22\n",
      "   weighted avg       1.00      1.00      1.00        22\n",
      "\n",
      "Confusion matrix for the top model {i+1} on validation data:\n",
      "[[13  0  0]\n",
      " [ 0  3  0]\n",
      " [ 0  0  6]]\n"
     ]
    }
   ],
   "source": [
    "# Iterate over the top two models\n",
    "for i, idx in enumerate(top_indices):\n",
    "    model = grid_search_2.best_estimator_\n",
    "    \n",
    "    # Evaluate the model on training data\n",
    "    print(f\"\\nMetrics for the top model {i+1} on training data:\")\n",
    "    y_train_pred = model.predict(x_train)\n",
    "    print(classification_report(y_train, y_train_pred))\n",
    "    print(\"Confusion matrix for the top model {i+1} on training data:\")\n",
    "    print(confusion_matrix(y_train, y_train_pred))\n",
    "\n",
    "    # Evaluate the model on validation data\n",
    "    print(f\"\\nMetrics for the top model {i+1} on validation data:\")\n",
    "    y_valid_pred = model.predict(x_valid)\n",
    "    print(classification_report(y_valid, y_valid_pred))\n",
    "    print(\"Confusion matrix for the top model {i+1} on validation data:\")\n",
    "    print(confusion_matrix(y_valid, y_valid_pred))"
   ]
  },
  {
   "cell_type": "markdown",
   "id": "7079653f-e699-4815-9620-4e88cd96b83a",
   "metadata": {},
   "source": [
    "## Part 4"
   ]
  },
  {
   "cell_type": "markdown",
   "id": "1af2317e-7b9c-4914-868d-aed5512b9c53",
   "metadata": {},
   "source": [
    "###  Select and justify your final choice of hyperparameters based on the training and validation metrics. Provide a written analysis in markdown. "
   ]
  },
  {
   "cell_type": "markdown",
   "id": "b7eac1d4-027f-40ef-a90e-f0aa879ab197",
   "metadata": {},
   "source": [
    "### _**Hyperparameter analysis**_"
   ]
  },
  {
   "cell_type": "markdown",
   "id": "ded62416-5ab1-4f49-a936-35435780b232",
   "metadata": {},
   "source": [
    "#### _**Linear Kernel (Model 1):**_\n",
    "#### Training Metrics: The linear kernel model achieves high precision, recall, and F1-score for all classes on the training data, indicating good performance. The confusion matrix shows balanced classification across all classes. \n",
    "#### Validation Metrics: Similar to the training data, the model demonstrates high precision, recall, and F1-score on the validation data. The confusion matrix confirms effective classification.\n",
    "#### Justification: The linear kernel model shows consistent performance on both training and validation data, indicating good generalization ability. It is a suitable choice for this dataset, especially considering its simplicity and efficiency.\n",
    "#### _**RBF Kernel with Gamma=0.001 (Model 2):**_\n",
    "#### Training Metrics: The RBF kernel model with a gamma value of 0.001 achieves high precision, recall, and F1-score on the training data. The confusion matrix shows effective classification, although some misclassifications are observed. \n",
    "#### Validation Metrics: On the validation data, the model maintains high precision, recall, and F1-score for most classes.  However, there is a slight decrease in performance compared to the training data, indicating some level of overfitting.\n",
    "#### Justification: While the RBF kernel with gamma=0.001 provides good performance, it shows signs of overfitting on the validation data. This might be due to the complexity introduced by the RBF kernel, which can lead to a higher risk of overfitting on small datasets.\n",
    "#### Final Choice: Considering the consistency in performance and the potential risk of overfitting, **the linear kernel model (Model 1)** is selected as the final choice. It demonstrates robust performance on both training and validation data, with high precision, recall, and F1-score for all classes. Additionally, the linear kernel offers simplicity and efficiency, making it a suitable choice for this dataset._"
   ]
  },
  {
   "cell_type": "markdown",
   "id": "65f189dd-e561-4acd-8bef-2aa78450b0b4",
   "metadata": {},
   "source": [
    "## Comparison"
   ]
  },
  {
   "cell_type": "markdown",
   "id": "33d90518-f3e1-43a5-b93a-4485bd1fb64d",
   "metadata": {},
   "source": [
    "## Part 1: Which is better : SVM or Decision tree"
   ]
  },
  {
   "cell_type": "markdown",
   "id": "d714b501-052e-4c5d-8ca7-5105dc022734",
   "metadata": {},
   "source": [
    "### SVM Model Metrics:\n",
    "#### **Training Data:**\n",
    "#### Precision: High precision for all classes, indicating low false positive rates.\n",
    "#### Recall: High recall for all classes, indicating low false negative rates.\n",
    "#### F1-score: Balanced F1-score for all classes, indicating good overall performance.\n",
    "#### Confusion Matrix: Balanced classification with minimal misclassifications.\n",
    "#### **Validation Data:**\n",
    "#### Precision: Consistently high precision for all classes, indicating good generalization.\n",
    "#### Recall: Consistently high recall for all classes, indicating effective classification.\n",
    "#### F1-score: Consistently high F1-score for all classes, indicating robust performance.\n",
    "#### Confusion Matrix: Effective classification with minimal misclassifications, similar to training data.\n",
    "### Decision Tree Model Metrics:\n",
    "#### **Training Data:**\n",
    "#### Precision: Variable precision for different classes, indicating varying false positive rates.\n",
    "#### Recall: Variable recall for different classes, indicating varying false negative rates.\n",
    "#### F1-score: Variable F1-score for different classes, indicating uneven performance.\n",
    "#### Confusion Matrix: Variable classification performance with notable misclassifications.\n",
    "#### **Validation Data:**\n",
    "#### Precision: Variable precision for different classes, indicating potential overfitting.\n",
    "#### Recall: Variable recall for different classes, indicating potential overfitting.\n",
    "#### F1-score: Variable F1-score for different classes, indicating potential overfitting.\n",
    "#### Confusion Matrix: Inconsistent classification with notable misclassifications, similar to training data."
   ]
  },
  {
   "cell_type": "markdown",
   "id": "fab0f7a6-4685-45cc-8c4c-1726d8ce6bd7",
   "metadata": {},
   "source": [
    "## Model Selection and justification"
   ]
  },
  {
   "cell_type": "markdown",
   "id": "2fcc5e7f-03c3-458c-9c36-cb8809245d7a",
   "metadata": {},
   "source": [
    "### Based on the comparison of training and validation metrics, the SVM model demonstrates more consistent and robust performance across both datasets. It maintains high precision, recall, and F1-score for all classes, indicating effective classification with minimal misclassifications. In contrast, the decision tree model shows more variability in performance, with potential signs of overfitting observed on the validation data.\n",
    "\n",
    "### Therefore, the **SVM model** is chosen as the best model due to its superior generalization performance and more reliable classification results across both training and validation datasets."
   ]
  },
  {
   "cell_type": "markdown",
   "id": "349305ac-d845-43cf-a967-3eeaace876cb",
   "metadata": {},
   "source": [
    "## Part 2: Predictions on test_set with the best model"
   ]
  },
  {
   "cell_type": "code",
   "execution_count": 187,
   "id": "030d25ac-f989-4760-b1aa-6709bf5bc0b8",
   "metadata": {},
   "outputs": [
    {
     "name": "stdout",
     "output_type": "stream",
     "text": [
      "Metrics for the SVM model on the test data:\n",
      "                 precision    recall  f1-score   support\n",
      "\n",
      "    Iris-setosa       1.00      1.00      1.00         6\n",
      "Iris-versicolor       1.00      1.00      1.00        10\n",
      " Iris-virginica       1.00      1.00      1.00         7\n",
      "\n",
      "       accuracy                           1.00        23\n",
      "      macro avg       1.00      1.00      1.00        23\n",
      "   weighted avg       1.00      1.00      1.00        23\n",
      "\n",
      "Confusion matrix for the SVM model on the test data:\n",
      "[[ 6  0  0]\n",
      " [ 0 10  0]\n",
      " [ 0  0  7]]\n"
     ]
    }
   ],
   "source": [
    "# Make predictions on the test data using the selected SVM model\n",
    "y_test_pred = model.predict(x_test)\n",
    "\n",
    "# Display metrics for the test data\n",
    "print(\"Metrics for the SVM model on the test data:\")\n",
    "print(classification_report(y_test, y_test_pred))\n",
    "print(\"Confusion matrix for the SVM model on the test data:\")\n",
    "print(confusion_matrix(y_test, y_test_pred))"
   ]
  },
  {
   "cell_type": "markdown",
   "id": "412609ed-149b-49a8-8883-fef53cc8ed8a",
   "metadata": {},
   "source": [
    "## Part 3: Reviewing Best model"
   ]
  },
  {
   "cell_type": "markdown",
   "id": "c920271f-baa8-4566-90ed-a04a6a8931a2",
   "metadata": {},
   "source": [
    "#### The selected Support Vector Machine (SVM) model demonstrates robust performance across various metrics, making it a suitable choice for our use case.\n",
    "### **Use case assessment:**\n",
    "#### Given the high precision, recall, and F1-score achieved by the SVM model on the test data, we can conclude that it will work well for our use case. The model demonstrates a strong ability to accurately classify instances into their respective classes, which is essential for tasks such as classification of iris species based on flower characteristics. Additionally, the balanced performance across all classes suggests that the model is robust and capable of handling diverse instances effectively. Overall, the selected SVM model is well-suited for our use case, providing reliable predictions and effective classification of iris species based on the input features."
   ]
  },
  {
   "cell_type": "code",
   "execution_count": null,
   "id": "283257e3-289b-4753-8d29-b7a1868efce8",
   "metadata": {},
   "outputs": [],
   "source": []
  },
  {
   "cell_type": "code",
   "execution_count": null,
   "id": "a38860be-4c20-41ec-b592-76115c7030fb",
   "metadata": {},
   "outputs": [],
   "source": []
  }
 ],
 "metadata": {
  "kernelspec": {
   "display_name": "Python 3",
   "language": "python",
   "name": "python3"
  },
  "language_info": {
   "codemirror_mode": {
    "name": "ipython",
    "version": 3
   },
   "file_extension": ".py",
   "mimetype": "text/x-python",
   "name": "python",
   "nbconvert_exporter": "python",
   "pygments_lexer": "ipython3",
   "version": "3.7.1"
  }
 },
 "nbformat": 4,
 "nbformat_minor": 5
}
